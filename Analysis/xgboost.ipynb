{
 "cells": [
  {
   "cell_type": "code",
   "execution_count": 12,
   "metadata": {},
   "outputs": [
    {
     "name": "stdout",
     "output_type": "stream",
     "text": [
      "Checking whether there is an H2O instance running at http://localhost:54321..... not found.\n",
      "Attempting to start a local H2O server...\n",
      "; Java HotSpot(TM) 64-Bit Server VM (build 25.161-b12, mixed mode)\n",
      "  Starting server from c:\\Python27\\lib\\site-packages\\h2o\\backend\\bin\\h2o.jar\n",
      "  Ice root: c:\\users\\ebigdeli\\appdata\\local\\temp\\1\\tmp94wp8s\n",
      "  JVM stdout: c:\\users\\ebigdeli\\appdata\\local\\temp\\1\\tmp94wp8s\\h2o_ebigdeli_started_from_python.out\n",
      "  JVM stderr: c:\\users\\ebigdeli\\appdata\\local\\temp\\1\\tmp94wp8s\\h2o_ebigdeli_started_from_python.err\n",
      "  Server is running at http://127.0.0.1:54321\n",
      "Connecting to H2O server at http://127.0.0.1:54321... successful.\n"
     ]
    },
    {
     "data": {
      "text/html": [
       "<div style=\"overflow:auto\"><table style=\"width:50%\"><tr><td>H2O cluster uptime:</td>\n",
       "<td>01 secs</td></tr>\n",
       "<tr><td>H2O cluster timezone:</td>\n",
       "<td>America/New_York</td></tr>\n",
       "<tr><td>H2O data parsing timezone:</td>\n",
       "<td>UTC</td></tr>\n",
       "<tr><td>H2O cluster version:</td>\n",
       "<td>3.18.0.5</td></tr>\n",
       "<tr><td>H2O cluster version age:</td>\n",
       "<td>2 days </td></tr>\n",
       "<tr><td>H2O cluster name:</td>\n",
       "<td>H2O_from_python_ebigdeli_5qtgmc</td></tr>\n",
       "<tr><td>H2O cluster total nodes:</td>\n",
       "<td>1</td></tr>\n",
       "<tr><td>H2O cluster free memory:</td>\n",
       "<td>14.22 Gb</td></tr>\n",
       "<tr><td>H2O cluster total cores:</td>\n",
       "<td>4</td></tr>\n",
       "<tr><td>H2O cluster allowed cores:</td>\n",
       "<td>4</td></tr>\n",
       "<tr><td>H2O cluster status:</td>\n",
       "<td>accepting new members, healthy</td></tr>\n",
       "<tr><td>H2O connection url:</td>\n",
       "<td>http://127.0.0.1:54321</td></tr>\n",
       "<tr><td>H2O connection proxy:</td>\n",
       "<td>None</td></tr>\n",
       "<tr><td>H2O internal security:</td>\n",
       "<td>False</td></tr>\n",
       "<tr><td>H2O API Extensions:</td>\n",
       "<td>Algos, AutoML, Core V3, Core V4</td></tr>\n",
       "<tr><td>Python version:</td>\n",
       "<td>2.7.9 final</td></tr></table></div>"
      ],
      "text/plain": [
       "--------------------------  -------------------------------\n",
       "H2O cluster uptime:         01 secs\n",
       "H2O cluster timezone:       America/New_York\n",
       "H2O data parsing timezone:  UTC\n",
       "H2O cluster version:        3.18.0.5\n",
       "H2O cluster version age:    2 days\n",
       "H2O cluster name:           H2O_from_python_ebigdeli_5qtgmc\n",
       "H2O cluster total nodes:    1\n",
       "H2O cluster free memory:    14.22 Gb\n",
       "H2O cluster total cores:    4\n",
       "H2O cluster allowed cores:  4\n",
       "H2O cluster status:         accepting new members, healthy\n",
       "H2O connection url:         http://127.0.0.1:54321\n",
       "H2O connection proxy:\n",
       "H2O internal security:      False\n",
       "H2O API Extensions:         Algos, AutoML, Core V3, Core V4\n",
       "Python version:             2.7.9 final\n",
       "--------------------------  -------------------------------"
      ]
     },
     "metadata": {},
     "output_type": "display_data"
    },
    {
     "name": "stdout",
     "output_type": "stream",
     "text": [
      "Parse progress: |█████████████████████████████████████████████████████████| 100%\n",
      "gbm Model Build progress: |███████████████████████████████████████████████| 100%\n",
      "gbm prediction progress: |████████████████████████████████████████████████| 100%\n",
      "gbm prediction progress: |████████████████████████████████████████████████| 100%\n",
      "(0.029696578437701744, 0.9929968287526427)\n"
     ]
    }
   ],
   "source": [
    "##param_selection\n",
    "'''\n",
    "This cell includes the code to find the best parameters \n",
    "to build the final model\n",
    "'''\n",
    "\n",
    "import h2o\n",
    "from h2o.estimators import H2ORandomForestEstimator\n",
    "from h2o.estimators.deeplearning import H2ODeepLearningEstimator\n",
    "from h2o.estimators.gbm import H2OGradientBoostingEstimator\n",
    "from h2o.estimators.glm import H2OGeneralizedLinearEstimator\n",
    "import pandas as pd\n",
    "h2o.init(max_mem_size= '16G', port = 54321)\n",
    "\n",
    "\n",
    "train_path = 'data/dataset_2_train.csv'\n",
    "df = pd.read_csv(train_path)\n",
    "\n",
    "data = h2o.H2OFrame(df)\n",
    "data['churned_within_30_days'] = data['churned_within_30_days'].asfactor()\n",
    "\n",
    "training_columns =[u'f01', u'f02', u'f03', u'f04', u'f05', u'f06', u'f07',\n",
    "       u'f08', u'f09', u'f10', u'f11', u'f12', u'f13', u'f14', u'f15', u'f16',\n",
    "       u'f17', u'f18']\n",
    "response_column = 'churned_within_30_days'\n",
    "train, test = data.split_frame(ratios=[0.8])\n",
    "\n",
    "m_GB = H2OGradientBoostingEstimator(ntrees=10, max_depth=9) \n",
    "m_GB.train(x=training_columns, y=response_column, training_frame=train, model_id= 'm_GB_10_9')\n",
    "per_GB = m_GB.predict(test_data=test)\n",
    "\n",
    "per_GB = m_GB.predict(test_data=test) \n",
    "out = pd.DataFrame(columns=['test','pred'])\n",
    "out['test'] = test['churned_within_30_days'].as_data_frame()\n",
    "out['pred'] = per_GB['predict'].as_data_frame()\n",
    "\n",
    "FP =  float((out[(out['test']==1) & (out['pred'] == 0)]).shape[0])\n",
    "TP =  float((out[(out['test']==0) & (out['pred'] == 0)]).shape[0])\n",
    "FN =  float((out[(out['test']==0) & (out['pred'] == 1)]).shape[0])\n",
    "TN =  float((out[(out['test']==1) & (out['pred'] == 1)]).shape[0])\n",
    "\n",
    "FPR = FP /(FP + TP)\n",
    "TPR = TP /(TP +FN)\n",
    "\n",
    "print (FPR, TPR)"
   ]
  },
  {
   "cell_type": "code",
   "execution_count": 14,
   "metadata": {},
   "outputs": [],
   "source": [
    "##final_model\n",
    "'''\n",
    "This cell builds the final model and precit the label\n",
    "validation set.\n",
    "'''\n",
    "    \n",
    "train_path = 'data/dataset_2_train.csv'\n",
    "df = pd.read_csv(train_path)\n",
    "\n",
    "train = h2o.H2OFrame(df)\n",
    "train['churned_within_30_days'] = train['churned_within_30_days'].asfactor()\n",
    "\n",
    "m_GB = H2OGradientBoostingEstimator(ntrees=10, max_depth=9, distribution = 'bernoulli') \n",
    "m_GB.train(x=training_columns, y=response_column, training_frame=train)\n",
    "\n",
    "##Validation\n",
    "validation_path = 'data/dataset_2_validation.csv'\n",
    "Gradient_Boosting = pd.read_csv(validation_path)\n",
    "\n",
    "validation = h2o.H2OFrame(Gradient_Boosting)\n",
    "per_GB = m_GB.predict(test_data=validation)\n",
    "\n",
    "output = per_GB.as_data_frame()\n",
    "print output.shape\n",
    "print (output[output['predict'] == 0]).shape\n",
    "print (output[output['predict'] == 1]).shape\n",
    "\n",
    "Gradient_Boosting['churned_within_30_days'] = output['predict']\n",
    "Gradient_Boosting['p0'] = output['p0']\n",
    "Gradient_Boosting['p1'] = output['p1']\n",
    "\n",
    "out_path = 'data/Dataset_2_predict_xgboost.csv'\n",
    "Gradient_Boosting.to_csv(out_path)"
   ]
  },
  {
   "cell_type": "code",
   "execution_count": 15,
   "metadata": {},
   "outputs": [
    {
     "name": "stdout",
     "output_type": "stream",
     "text": [
      "H2O session _sid_87d9 closed.\n"
     ]
    }
   ],
   "source": [
    "h2o.cluster().shutdown()"
   ]
  },
  {
   "cell_type": "code",
   "execution_count": null,
   "metadata": {},
   "outputs": [],
   "source": []
  }
 ],
 "metadata": {
  "kernelspec": {
   "display_name": "Python 2",
   "language": "python",
   "name": "python2"
  },
  "language_info": {
   "codemirror_mode": {
    "name": "ipython",
    "version": 2
   },
   "file_extension": ".py",
   "mimetype": "text/x-python",
   "name": "python",
   "nbconvert_exporter": "python",
   "pygments_lexer": "ipython2",
   "version": "2.7.14"
  }
 },
 "nbformat": 4,
 "nbformat_minor": 2
}
