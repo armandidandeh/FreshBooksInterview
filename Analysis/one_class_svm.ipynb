{
 "cells": [
  {
   "cell_type": "code",
   "execution_count": 1,
   "metadata": {},
   "outputs": [
    {
     "data": {
      "text/plain": [
       "<Figure size 640x480 with 1 Axes>"
      ]
     },
     "metadata": {},
     "output_type": "display_data"
    }
   ],
   "source": [
    "##param_selection\n",
    "'''\n",
    "This cell includes the code to find the best parameters \n",
    "to build the final model\n",
    "'''\n",
    "\n",
    "import pandas as pd\n",
    "from sklearn import svm\n",
    "from sklearn.utils import shuffle\n",
    "import numpy as np\n",
    "import matplotlib.pyplot as plt\n",
    "\n",
    "train_path = 'data/dataset_2_train.csv'\n",
    "df = pd.read_csv(train_path)\n",
    "df = pd.get_dummies(df, columns=[\"f17\", \"f18\"])\n",
    "not_churned = df[df['churned_within_30_days'] == 0]\n",
    "churned = df[df['churned_within_30_days'] == 1]\n",
    "\n",
    "input_columns = ['f01', u'f02', u'f03', u'f04', u'f05', u'f06', u'f07',\n",
    "       u'f08', u'f09', u'f10', u'f11', u'f12', u'f13', u'f14', u'f15', u'f16', u'f17_a', u'f17_b', u'f17_c', u'f18_a',\n",
    "       u'f18_b', u'f18_c']\n",
    "output_columns = 'churned_within_30_days'\n",
    "\n",
    "## Select class 0 for train set \n",
    "train_size = df.shape[0] * 80 /100\n",
    "train = shuffle(not_churned)[:train_size]\n",
    "test = pd.concat([shuffle(not_churned)[train_size+1:],churned])\n",
    "\n",
    "X_train = train[input_columns]\n",
    "y_train = train[output_columns]\n",
    "\n",
    "X_test= test[input_columns]\n",
    "y_test = test[output_columns]\n",
    "\n",
    "FPR = []\n",
    "TPR = []\n",
    "TPR.append(0)\n",
    "FPR.append(0)\n",
    "TPR.append(1)\n",
    "FPR.append(1)\n",
    "\n",
    "for i in np.arange(0.01,0.1,0.01):\n",
    "        clf = svm.OneClassSVM(nu=i, kernel=\"rbf\", gamma='auto')\n",
    "        clf.fit(X_train)\n",
    "        y_pred= clf.predict(X_test)\n",
    "        \n",
    "        np.place(y_pred,y_pred ==1, 0)\n",
    "        np.place(y_pred, y_pred ==-1, 1)\n",
    "\n",
    "        out = pd.DataFrame(columns=['test','pred'])\n",
    "        out['test'] = y_test.values\n",
    "        out['pred'] = y_pred\n",
    "\n",
    "        FP =  float((out[(out['test']==1) & (out['pred'] == 0)]).shape[0])\n",
    "        TP =  float((out[(out['test']==0) & (out['pred'] == 0)]).shape[0])\n",
    "        FN =  float((out[(out['test']==0) & (out['pred'] == 1)]).shape[0])\n",
    "        TN =  float((out[(out['test']==1) & (out['pred'] == 1)]).shape[0])\n",
    "\n",
    "        FPR.append(FP /(FP + TP))\n",
    "        TPR.append(TP /(TP +FN))\n",
    "\n",
    "plt.title('Receiver Operating Characteristic')\n",
    "output = sorted(zip(TPR, FPR, np.arange(0.01,0.1,0.01)), key=lambda x: x[0])\n",
    "plt.plot([i[1] for i in output], [i[0] for i in output])\n",
    "plt.legend(loc = 'lower right')\n",
    "plt.plot([0, 1], [0, 1],'r--')\n",
    "plt.xlim([0, 1])\n",
    "plt.ylim([0, 1])\n",
    "plt.ylabel('True Positive Rate')\n",
    "plt.xlabel('False Positive Rate')\n",
    "plt.show()"
   ]
  },
  {
   "cell_type": "code",
   "execution_count": 2,
   "metadata": {
    "scrolled": true
   },
   "outputs": [
    {
     "name": "stdout",
     "output_type": "stream",
     "text": [
      "(10000L,)\n",
      "561\n",
      "9439\n"
     ]
    }
   ],
   "source": [
    "##final_model\n",
    "'''\n",
    "This cell builds the final model and precit the label\n",
    "validation set.\n",
    "'''\n",
    "\n",
    "train_path = 'data/dataset_2_train.csv'\n",
    "df = pd.read_csv(train_path)\n",
    "df = pd.get_dummies(df, columns=[\"f17\", \"f18\"])\n",
    "train = df[df['churned_within_30_days'] == 0][input_columns]\n",
    "clf = svm.OneClassSVM(nu=0.05, kernel=\"rbf\", gamma='auto')\n",
    "clf.fit(train)\n",
    "\n",
    "validation_path = 'data/dataset_2_validation.csv'\n",
    "validation = pd.read_csv(validation_path)\n",
    "validation = pd.get_dummies(validation, columns=[\"f17\", \"f18\"])\n",
    "y_pred= clf.predict(validation[input_columns])\n",
    "\n",
    "np.place(y_pred,y_pred ==1, 0)\n",
    "np.place(y_pred, y_pred ==-1, 1)\n",
    "\n",
    "validation['churned_within_30_days'] = y_pred\n",
    "out_path = 'data/Dataset_2_predict_one_class_svm.csv'\n",
    "validation.to_csv(out_path)\n",
    "\n",
    "\n",
    "print (y_pred == 0).shape\n",
    "print sum(y_pred)\n",
    "print ((y_pred == 0).shape - sum(y_pred))[0]\n",
    "\n"
   ]
  },
  {
   "cell_type": "code",
   "execution_count": null,
   "metadata": {},
   "outputs": [],
   "source": []
  }
 ],
 "metadata": {
  "kernelspec": {
   "display_name": "Python 2",
   "language": "python",
   "name": "python2"
  },
  "language_info": {
   "codemirror_mode": {
    "name": "ipython",
    "version": 2
   },
   "file_extension": ".py",
   "mimetype": "text/x-python",
   "name": "python",
   "nbconvert_exporter": "python",
   "pygments_lexer": "ipython2",
   "version": "2.7.14"
  }
 },
 "nbformat": 4,
 "nbformat_minor": 2
}
